{
 "cells": [
  {
   "cell_type": "markdown",
   "metadata": {
    "collapsed": true
   },
   "source": [
    "#Visualizing Pixar's Roller Coaster\n",
    "\n",
    "Data - PixarMovies.csv\n",
    "- Year Released - the year the movie was released.\n",
    "- Movie - the name of the movie.\n",
    "- RT Score - the Rotten Tomatoes rating for the movie.\n",
    "- IMDB Score - the IMDB rating for the movie.\n",
    "- Metacritic SCore - the Metacritic rating for the movie.\n",
    "- Opening Weekend - the amount of revenue the movie made on opening weekend (in millions of dollars).\n",
    "- Worldwide Gross - the total amount of revenue the movie has made to date.\n",
    "- Production Budget - the amount of money spent to produce the film (in millions of dollars).\n",
    "- Oscars Won - the number of Oscar awards the movie won."
   ]
  },
  {
   "cell_type": "code",
   "execution_count": 2,
   "metadata": {
    "collapsed": true
   },
   "outputs": [],
   "source": [
    "import pandas as pd\n",
    "import matplotlib.pyplot as plt\n",
    "import seaborn as sns\n",
    "%matplotlib inline"
   ]
  },
  {
   "cell_type": "code",
   "execution_count": 3,
   "metadata": {
    "collapsed": false
   },
   "outputs": [],
   "source": [
    "pixar_movies = pd.read_csv('PixarMovies.csv')"
   ]
  },
  {
   "cell_type": "markdown",
   "metadata": {},
   "source": [
    "##Introduction to Data"
   ]
  },
  {
   "cell_type": "code",
   "execution_count": 8,
   "metadata": {
    "collapsed": false
   },
   "outputs": [
    {
     "data": {
      "text/plain": [
       "(15, 16)"
      ]
     },
     "execution_count": 8,
     "metadata": {},
     "output_type": "execute_result"
    }
   ],
   "source": [
    "pixar_movies.shape"
   ]
  },
  {
   "cell_type": "code",
   "execution_count": 4,
   "metadata": {
    "collapsed": false
   },
   "outputs": [
    {
     "data": {
      "text/html": [
       "<div style=\"max-height:1000px;max-width:1500px;overflow:auto;\">\n",
       "<table border=\"1\" class=\"dataframe\">\n",
       "  <thead>\n",
       "    <tr style=\"text-align: right;\">\n",
       "      <th></th>\n",
       "      <th>Year Released</th>\n",
       "      <th>Movie</th>\n",
       "      <th>Length</th>\n",
       "      <th>RT Score</th>\n",
       "      <th>IMDB Score</th>\n",
       "      <th>Metacritic Score</th>\n",
       "      <th>Opening Weekend</th>\n",
       "      <th>Worldwide Gross</th>\n",
       "      <th>Domestic Gross</th>\n",
       "      <th>Adjusted Domestic Gross</th>\n",
       "      <th>International Gross</th>\n",
       "      <th>Domestic %</th>\n",
       "      <th>International %</th>\n",
       "      <th>Production Budget</th>\n",
       "      <th>Oscars Nominated</th>\n",
       "      <th>Oscars Won</th>\n",
       "    </tr>\n",
       "  </thead>\n",
       "  <tbody>\n",
       "    <tr>\n",
       "      <th>0</th>\n",
       "      <td> 1995</td>\n",
       "      <td>      Toy Story</td>\n",
       "      <td>  81</td>\n",
       "      <td> 100</td>\n",
       "      <td> 8.3</td>\n",
       "      <td> 92</td>\n",
       "      <td> 29.14</td>\n",
       "      <td> 362.0</td>\n",
       "      <td> 191.8</td>\n",
       "      <td> 356.21</td>\n",
       "      <td> 170.2</td>\n",
       "      <td> 52.98%</td>\n",
       "      <td> 47.02%</td>\n",
       "      <td>  30</td>\n",
       "      <td> 3</td>\n",
       "      <td> 0</td>\n",
       "    </tr>\n",
       "    <tr>\n",
       "      <th>1</th>\n",
       "      <td> 1998</td>\n",
       "      <td>   A Bug's Life</td>\n",
       "      <td>  96</td>\n",
       "      <td>  92</td>\n",
       "      <td> 7.2</td>\n",
       "      <td> 77</td>\n",
       "      <td> 33.26</td>\n",
       "      <td> 363.4</td>\n",
       "      <td> 162.8</td>\n",
       "      <td> 277.18</td>\n",
       "      <td> 200.6</td>\n",
       "      <td> 44.80%</td>\n",
       "      <td> 55.20%</td>\n",
       "      <td>  45</td>\n",
       "      <td> 1</td>\n",
       "      <td> 0</td>\n",
       "    </tr>\n",
       "    <tr>\n",
       "      <th>2</th>\n",
       "      <td> 1999</td>\n",
       "      <td>    Toy Story 2</td>\n",
       "      <td>  92</td>\n",
       "      <td> 100</td>\n",
       "      <td> 7.9</td>\n",
       "      <td> 88</td>\n",
       "      <td> 57.39</td>\n",
       "      <td> 485.0</td>\n",
       "      <td> 245.9</td>\n",
       "      <td> 388.43</td>\n",
       "      <td> 239.2</td>\n",
       "      <td> 50.70%</td>\n",
       "      <td> 49.32%</td>\n",
       "      <td>  90</td>\n",
       "      <td> 1</td>\n",
       "      <td> 0</td>\n",
       "    </tr>\n",
       "    <tr>\n",
       "      <th>3</th>\n",
       "      <td> 2001</td>\n",
       "      <td> Monsters, Inc.</td>\n",
       "      <td>  90</td>\n",
       "      <td>  96</td>\n",
       "      <td> 8.1</td>\n",
       "      <td> 78</td>\n",
       "      <td> 62.58</td>\n",
       "      <td> 528.8</td>\n",
       "      <td> 255.9</td>\n",
       "      <td> 366.12</td>\n",
       "      <td> 272.9</td>\n",
       "      <td> 48.39%</td>\n",
       "      <td> 51.61%</td>\n",
       "      <td> 115</td>\n",
       "      <td> 3</td>\n",
       "      <td> 1</td>\n",
       "    </tr>\n",
       "    <tr>\n",
       "      <th>4</th>\n",
       "      <td> 2003</td>\n",
       "      <td>   Finding Nemo</td>\n",
       "      <td> 104</td>\n",
       "      <td>  99</td>\n",
       "      <td> 8.2</td>\n",
       "      <td> 90</td>\n",
       "      <td> 70.25</td>\n",
       "      <td> 895.6</td>\n",
       "      <td> 339.7</td>\n",
       "      <td> 457.46</td>\n",
       "      <td> 555.9</td>\n",
       "      <td> 37.93%</td>\n",
       "      <td> 62.07%</td>\n",
       "      <td>  94</td>\n",
       "      <td> 4</td>\n",
       "      <td> 1</td>\n",
       "    </tr>\n",
       "  </tbody>\n",
       "</table>\n",
       "</div>"
      ],
      "text/plain": [
       "   Year Released           Movie  Length  RT Score  IMDB Score  \\\n",
       "0           1995       Toy Story      81       100         8.3   \n",
       "1           1998    A Bug's Life      96        92         7.2   \n",
       "2           1999     Toy Story 2      92       100         7.9   \n",
       "3           2001  Monsters, Inc.      90        96         8.1   \n",
       "4           2003    Finding Nemo     104        99         8.2   \n",
       "\n",
       "   Metacritic Score  Opening Weekend  Worldwide Gross  Domestic Gross  \\\n",
       "0                92            29.14            362.0           191.8   \n",
       "1                77            33.26            363.4           162.8   \n",
       "2                88            57.39            485.0           245.9   \n",
       "3                78            62.58            528.8           255.9   \n",
       "4                90            70.25            895.6           339.7   \n",
       "\n",
       "   Adjusted Domestic Gross  International Gross Domestic % International %  \\\n",
       "0                   356.21                170.2     52.98%          47.02%   \n",
       "1                   277.18                200.6     44.80%          55.20%   \n",
       "2                   388.43                239.2     50.70%          49.32%   \n",
       "3                   366.12                272.9     48.39%          51.61%   \n",
       "4                   457.46                555.9     37.93%          62.07%   \n",
       "\n",
       "   Production Budget  Oscars Nominated  Oscars Won  \n",
       "0                 30                 3           0  \n",
       "1                 45                 1           0  \n",
       "2                 90                 1           0  \n",
       "3                115                 3           1  \n",
       "4                 94                 4           1  "
      ]
     },
     "execution_count": 4,
     "metadata": {},
     "output_type": "execute_result"
    }
   ],
   "source": [
    "pixar_movies.head()"
   ]
  },
  {
   "cell_type": "code",
   "execution_count": 9,
   "metadata": {
    "collapsed": false
   },
   "outputs": [
    {
     "data": {
      "text/plain": [
       "Year Released                int64\n",
       "Movie                       object\n",
       "Length                       int64\n",
       "RT Score                     int64\n",
       "IMDB Score                 float64\n",
       "Metacritic Score             int64\n",
       "Opening Weekend            float64\n",
       "Worldwide Gross            float64\n",
       "Domestic Gross             float64\n",
       "Adjusted Domestic Gross    float64\n",
       "International Gross        float64\n",
       "Domestic %                  object\n",
       "International %             object\n",
       "Production Budget            int64\n",
       "Oscars Nominated           float64\n",
       "Oscars Won                 float64\n",
       "dtype: object"
      ]
     },
     "execution_count": 9,
     "metadata": {},
     "output_type": "execute_result"
    }
   ],
   "source": [
    "pixar_movies.dtypes"
   ]
  },
  {
   "cell_type": "code",
   "execution_count": 10,
   "metadata": {
    "collapsed": false
   },
   "outputs": [
    {
     "data": {
      "text/plain": [
       "<bound method DataFrame.describe of     Year Released                Movie  Length  RT Score  IMDB Score  \\\n",
       "0            1995            Toy Story      81       100         8.3   \n",
       "1            1998         A Bug's Life      96        92         7.2   \n",
       "2            1999          Toy Story 2      92       100         7.9   \n",
       "3            2001       Monsters, Inc.      90        96         8.1   \n",
       "4            2003         Finding Nemo     104        99         8.2   \n",
       "5            2004      The Incredibles     115        97         8.0   \n",
       "6            2006                 Cars     116        74         7.2   \n",
       "7            2007          Ratatouille     111        96         8.0   \n",
       "8            2008               WALL-E      97        96         8.4   \n",
       "9            2009                   Up      96        98         8.3   \n",
       "10           2010          Toy Story 3     103        99         8.4   \n",
       "11           2011               Cars 2     113        39         6.3   \n",
       "12           2012                Brave     100        78         7.2   \n",
       "13           2013  Monsters University     107        78         7.4   \n",
       "14           2015           Inside Out     102        98         8.8   \n",
       "\n",
       "    Metacritic Score  Opening Weekend  Worldwide Gross  Domestic Gross  \\\n",
       "0                 92            29.14            362.0           191.8   \n",
       "1                 77            33.26            363.4           162.8   \n",
       "2                 88            57.39            485.0           245.9   \n",
       "3                 78            62.58            528.8           255.9   \n",
       "4                 90            70.25            895.6           339.7   \n",
       "5                 90            70.47            631.4           261.4   \n",
       "6                 73            60.12            462.0           244.1   \n",
       "7                 96            47.00            623.7           206.4   \n",
       "8                 94            63.10            521.3           223.8   \n",
       "9                 88            68.11            731.3           293.0   \n",
       "10                92           110.31           1063.2           415.0   \n",
       "11                57           109.00            559.9           191.5   \n",
       "12                69            66.30            539.0           237.3   \n",
       "13                65            82.43            743.6           268.5   \n",
       "14                93            90.40            677.1           340.5   \n",
       "\n",
       "    Adjusted Domestic Gross  International Gross Domestic % International %  \\\n",
       "0                    356.21                170.2     52.98%          47.02%   \n",
       "1                    277.18                200.6     44.80%          55.20%   \n",
       "2                    388.43                239.2     50.70%          49.32%   \n",
       "3                    366.12                272.9     48.39%          51.61%   \n",
       "4                    457.46                555.9     37.93%          62.07%   \n",
       "5                    341.28                370.0     41.40%          58.60%   \n",
       "6                    302.59                217.9     52.84%          47.16%   \n",
       "7                    243.65                417.3     33.09%          66.91%   \n",
       "8                    253.11                297.5     42.93%          57.07%   \n",
       "9                    318.90                438.3     40.07%          59.93%   \n",
       "10                   423.88                648.2     39.03%          60.97%   \n",
       "11                   194.43                368.4     34.20%          65.80%   \n",
       "12                   243.39                301.7     44.03%          55.97%   \n",
       "13                   269.59                475.1     36.11%          63.89%   \n",
       "14                   340.50                336.6     50.29%          49.71%   \n",
       "\n",
       "    Production Budget  Oscars Nominated  Oscars Won  \n",
       "0                  30                 3           0  \n",
       "1                  45                 1           0  \n",
       "2                  90                 1           0  \n",
       "3                 115                 3           1  \n",
       "4                  94                 4           1  \n",
       "5                  92                 4           2  \n",
       "6                  70                 2           0  \n",
       "7                 150                 5           1  \n",
       "8                 180                 6           1  \n",
       "9                 175                 5           2  \n",
       "10                200                 5           2  \n",
       "11                200                 0           0  \n",
       "12                185                 1           1  \n",
       "13                200                 0           0  \n",
       "14                175               NaN         NaN  >"
      ]
     },
     "execution_count": 10,
     "metadata": {},
     "output_type": "execute_result"
    }
   ],
   "source": [
    "pixar_movies.describe"
   ]
  },
  {
   "cell_type": "markdown",
   "metadata": {},
   "source": [
    "##Data Cleaning"
   ]
  },
  {
   "cell_type": "markdown",
   "metadata": {},
   "source": [
    "Remove '%' from 'International %' and 'Domestic %' columns, and convert numbers to float"
   ]
  },
  {
   "cell_type": "code",
   "execution_count": 32,
   "metadata": {
    "collapsed": false
   },
   "outputs": [],
   "source": [
    "# for item in pixar_movies['Domestic %']:\n",
    "#     pixar_movies['Domestic %'] = item.rstrip('%')\n",
    "\n",
    "# for item in pixar_movies['International %']:\n",
    "#     pixar_movies['International %'] = item.rstrip('%')\n",
    "\n",
    "# pixar_movies['Domestic %'] = pixar_movies['Domestic %'].astype('float64')\n",
    "# pixar_movies['International %'] = pixar_movies['International %'].astype('float64')"
   ]
  },
  {
   "cell_type": "code",
   "execution_count": 4,
   "metadata": {
    "collapsed": true
   },
   "outputs": [],
   "source": [
    "# Faster way\n",
    "pixar_movies[\"Domestic %\"] = pixar_movies[\"Domestic %\"].str.rstrip(\"%\").astype(\"float\")\n",
    "pixar_movies[\"International %\"] = pixar_movies[\"International %\"].str.rstrip(\"%\").astype(\"float\")"
   ]
  },
  {
   "cell_type": "code",
   "execution_count": 5,
   "metadata": {
    "collapsed": false
   },
   "outputs": [
    {
     "data": {
      "text/plain": [
       "Domestic %         float64\n",
       "International %    float64\n",
       "dtype: object"
      ]
     },
     "execution_count": 5,
     "metadata": {},
     "output_type": "execute_result"
    }
   ],
   "source": [
    "pixar_movies[['Domestic %', 'International %']].dtypes"
   ]
  },
  {
   "cell_type": "markdown",
   "metadata": {},
   "source": [
    "Multiply the IMDB Score column by 10 to convert it from a 10 point scale to a 100 point scale."
   ]
  },
  {
   "cell_type": "code",
   "execution_count": 6,
   "metadata": {
    "collapsed": true
   },
   "outputs": [],
   "source": [
    "pixar_movies['IMDB Score'] = pixar_movies['IMDB Score'] * 10"
   ]
  },
  {
   "cell_type": "markdown",
   "metadata": {},
   "source": [
    "Drop last row to remove NA values"
   ]
  },
  {
   "cell_type": "code",
   "execution_count": 7,
   "metadata": {
    "collapsed": false
   },
   "outputs": [
    {
     "data": {
      "text/plain": [
       "(14, 16)"
      ]
     },
     "execution_count": 7,
     "metadata": {},
     "output_type": "execute_result"
    }
   ],
   "source": [
    "filtered_pixar = pixar_movies.dropna()\n",
    "filtered_pixar.shape"
   ]
  },
  {
   "cell_type": "markdown",
   "metadata": {},
   "source": [
    "Set index to be \"Movie\""
   ]
  },
  {
   "cell_type": "code",
   "execution_count": 8,
   "metadata": {
    "collapsed": false
   },
   "outputs": [
    {
     "data": {
      "text/html": [
       "<div style=\"max-height:1000px;max-width:1500px;overflow:auto;\">\n",
       "<table border=\"1\" class=\"dataframe\">\n",
       "  <thead>\n",
       "    <tr style=\"text-align: right;\">\n",
       "      <th></th>\n",
       "      <th>Year Released</th>\n",
       "      <th>Length</th>\n",
       "      <th>RT Score</th>\n",
       "      <th>IMDB Score</th>\n",
       "      <th>Metacritic Score</th>\n",
       "      <th>Opening Weekend</th>\n",
       "      <th>Worldwide Gross</th>\n",
       "      <th>Domestic Gross</th>\n",
       "      <th>Adjusted Domestic Gross</th>\n",
       "      <th>International Gross</th>\n",
       "      <th>Domestic %</th>\n",
       "      <th>International %</th>\n",
       "      <th>Production Budget</th>\n",
       "      <th>Oscars Nominated</th>\n",
       "      <th>Oscars Won</th>\n",
       "    </tr>\n",
       "    <tr>\n",
       "      <th>Movie</th>\n",
       "      <th></th>\n",
       "      <th></th>\n",
       "      <th></th>\n",
       "      <th></th>\n",
       "      <th></th>\n",
       "      <th></th>\n",
       "      <th></th>\n",
       "      <th></th>\n",
       "      <th></th>\n",
       "      <th></th>\n",
       "      <th></th>\n",
       "      <th></th>\n",
       "      <th></th>\n",
       "      <th></th>\n",
       "      <th></th>\n",
       "    </tr>\n",
       "  </thead>\n",
       "  <tbody>\n",
       "    <tr>\n",
       "      <th>Toy Story</th>\n",
       "      <td> 1995</td>\n",
       "      <td>  81</td>\n",
       "      <td> 100</td>\n",
       "      <td> 83</td>\n",
       "      <td> 92</td>\n",
       "      <td> 29.14</td>\n",
       "      <td> 362.0</td>\n",
       "      <td> 191.8</td>\n",
       "      <td> 356.21</td>\n",
       "      <td> 170.2</td>\n",
       "      <td> 52.98</td>\n",
       "      <td> 47.02</td>\n",
       "      <td>  30</td>\n",
       "      <td> 3</td>\n",
       "      <td> 0</td>\n",
       "    </tr>\n",
       "    <tr>\n",
       "      <th>A Bug's Life</th>\n",
       "      <td> 1998</td>\n",
       "      <td>  96</td>\n",
       "      <td>  92</td>\n",
       "      <td> 72</td>\n",
       "      <td> 77</td>\n",
       "      <td> 33.26</td>\n",
       "      <td> 363.4</td>\n",
       "      <td> 162.8</td>\n",
       "      <td> 277.18</td>\n",
       "      <td> 200.6</td>\n",
       "      <td> 44.80</td>\n",
       "      <td> 55.20</td>\n",
       "      <td>  45</td>\n",
       "      <td> 1</td>\n",
       "      <td> 0</td>\n",
       "    </tr>\n",
       "    <tr>\n",
       "      <th>Toy Story 2</th>\n",
       "      <td> 1999</td>\n",
       "      <td>  92</td>\n",
       "      <td> 100</td>\n",
       "      <td> 79</td>\n",
       "      <td> 88</td>\n",
       "      <td> 57.39</td>\n",
       "      <td> 485.0</td>\n",
       "      <td> 245.9</td>\n",
       "      <td> 388.43</td>\n",
       "      <td> 239.2</td>\n",
       "      <td> 50.70</td>\n",
       "      <td> 49.32</td>\n",
       "      <td>  90</td>\n",
       "      <td> 1</td>\n",
       "      <td> 0</td>\n",
       "    </tr>\n",
       "    <tr>\n",
       "      <th>Monsters, Inc.</th>\n",
       "      <td> 2001</td>\n",
       "      <td>  90</td>\n",
       "      <td>  96</td>\n",
       "      <td> 81</td>\n",
       "      <td> 78</td>\n",
       "      <td> 62.58</td>\n",
       "      <td> 528.8</td>\n",
       "      <td> 255.9</td>\n",
       "      <td> 366.12</td>\n",
       "      <td> 272.9</td>\n",
       "      <td> 48.39</td>\n",
       "      <td> 51.61</td>\n",
       "      <td> 115</td>\n",
       "      <td> 3</td>\n",
       "      <td> 1</td>\n",
       "    </tr>\n",
       "    <tr>\n",
       "      <th>Finding Nemo</th>\n",
       "      <td> 2003</td>\n",
       "      <td> 104</td>\n",
       "      <td>  99</td>\n",
       "      <td> 82</td>\n",
       "      <td> 90</td>\n",
       "      <td> 70.25</td>\n",
       "      <td> 895.6</td>\n",
       "      <td> 339.7</td>\n",
       "      <td> 457.46</td>\n",
       "      <td> 555.9</td>\n",
       "      <td> 37.93</td>\n",
       "      <td> 62.07</td>\n",
       "      <td>  94</td>\n",
       "      <td> 4</td>\n",
       "      <td> 1</td>\n",
       "    </tr>\n",
       "  </tbody>\n",
       "</table>\n",
       "</div>"
      ],
      "text/plain": [
       "                Year Released  Length  RT Score  IMDB Score  Metacritic Score  \\\n",
       "Movie                                                                           \n",
       "Toy Story                1995      81       100          83                92   \n",
       "A Bug's Life             1998      96        92          72                77   \n",
       "Toy Story 2              1999      92       100          79                88   \n",
       "Monsters, Inc.           2001      90        96          81                78   \n",
       "Finding Nemo             2003     104        99          82                90   \n",
       "\n",
       "                Opening Weekend  Worldwide Gross  Domestic Gross  \\\n",
       "Movie                                                              \n",
       "Toy Story                 29.14            362.0           191.8   \n",
       "A Bug's Life              33.26            363.4           162.8   \n",
       "Toy Story 2               57.39            485.0           245.9   \n",
       "Monsters, Inc.            62.58            528.8           255.9   \n",
       "Finding Nemo              70.25            895.6           339.7   \n",
       "\n",
       "                Adjusted Domestic Gross  International Gross  Domestic %  \\\n",
       "Movie                                                                      \n",
       "Toy Story                        356.21                170.2       52.98   \n",
       "A Bug's Life                     277.18                200.6       44.80   \n",
       "Toy Story 2                      388.43                239.2       50.70   \n",
       "Monsters, Inc.                   366.12                272.9       48.39   \n",
       "Finding Nemo                     457.46                555.9       37.93   \n",
       "\n",
       "                International %  Production Budget  Oscars Nominated  \\\n",
       "Movie                                                                  \n",
       "Toy Story                 47.02                 30                 3   \n",
       "A Bug's Life              55.20                 45                 1   \n",
       "Toy Story 2               49.32                 90                 1   \n",
       "Monsters, Inc.            51.61                115                 3   \n",
       "Finding Nemo              62.07                 94                 4   \n",
       "\n",
       "                Oscars Won  \n",
       "Movie                       \n",
       "Toy Story                0  \n",
       "A Bug's Life             0  \n",
       "Toy Story 2              0  \n",
       "Monsters, Inc.           1  \n",
       "Finding Nemo             1  "
      ]
     },
     "execution_count": 8,
     "metadata": {},
     "output_type": "execute_result"
    }
   ],
   "source": [
    "pixar_movies.set_index('Movie', inplace=True)\n",
    "pixar_movies.head()"
   ]
  },
  {
   "cell_type": "code",
   "execution_count": 9,
   "metadata": {
    "collapsed": false
   },
   "outputs": [
    {
     "data": {
      "text/html": [
       "<div style=\"max-height:1000px;max-width:1500px;overflow:auto;\">\n",
       "<table border=\"1\" class=\"dataframe\">\n",
       "  <thead>\n",
       "    <tr style=\"text-align: right;\">\n",
       "      <th></th>\n",
       "      <th>Year Released</th>\n",
       "      <th>Length</th>\n",
       "      <th>RT Score</th>\n",
       "      <th>IMDB Score</th>\n",
       "      <th>Metacritic Score</th>\n",
       "      <th>Opening Weekend</th>\n",
       "      <th>Worldwide Gross</th>\n",
       "      <th>Domestic Gross</th>\n",
       "      <th>Adjusted Domestic Gross</th>\n",
       "      <th>International Gross</th>\n",
       "      <th>Domestic %</th>\n",
       "      <th>International %</th>\n",
       "      <th>Production Budget</th>\n",
       "      <th>Oscars Nominated</th>\n",
       "      <th>Oscars Won</th>\n",
       "    </tr>\n",
       "    <tr>\n",
       "      <th>Movie</th>\n",
       "      <th></th>\n",
       "      <th></th>\n",
       "      <th></th>\n",
       "      <th></th>\n",
       "      <th></th>\n",
       "      <th></th>\n",
       "      <th></th>\n",
       "      <th></th>\n",
       "      <th></th>\n",
       "      <th></th>\n",
       "      <th></th>\n",
       "      <th></th>\n",
       "      <th></th>\n",
       "      <th></th>\n",
       "      <th></th>\n",
       "    </tr>\n",
       "  </thead>\n",
       "  <tbody>\n",
       "    <tr>\n",
       "      <th>Toy Story</th>\n",
       "      <td> 1995</td>\n",
       "      <td>  81</td>\n",
       "      <td> 100</td>\n",
       "      <td> 83</td>\n",
       "      <td> 92</td>\n",
       "      <td> 29.14</td>\n",
       "      <td> 362.0</td>\n",
       "      <td> 191.8</td>\n",
       "      <td> 356.21</td>\n",
       "      <td> 170.2</td>\n",
       "      <td> 52.98</td>\n",
       "      <td> 47.02</td>\n",
       "      <td>  30</td>\n",
       "      <td> 3</td>\n",
       "      <td> 0</td>\n",
       "    </tr>\n",
       "    <tr>\n",
       "      <th>A Bug's Life</th>\n",
       "      <td> 1998</td>\n",
       "      <td>  96</td>\n",
       "      <td>  92</td>\n",
       "      <td> 72</td>\n",
       "      <td> 77</td>\n",
       "      <td> 33.26</td>\n",
       "      <td> 363.4</td>\n",
       "      <td> 162.8</td>\n",
       "      <td> 277.18</td>\n",
       "      <td> 200.6</td>\n",
       "      <td> 44.80</td>\n",
       "      <td> 55.20</td>\n",
       "      <td>  45</td>\n",
       "      <td> 1</td>\n",
       "      <td> 0</td>\n",
       "    </tr>\n",
       "    <tr>\n",
       "      <th>Toy Story 2</th>\n",
       "      <td> 1999</td>\n",
       "      <td>  92</td>\n",
       "      <td> 100</td>\n",
       "      <td> 79</td>\n",
       "      <td> 88</td>\n",
       "      <td> 57.39</td>\n",
       "      <td> 485.0</td>\n",
       "      <td> 245.9</td>\n",
       "      <td> 388.43</td>\n",
       "      <td> 239.2</td>\n",
       "      <td> 50.70</td>\n",
       "      <td> 49.32</td>\n",
       "      <td>  90</td>\n",
       "      <td> 1</td>\n",
       "      <td> 0</td>\n",
       "    </tr>\n",
       "    <tr>\n",
       "      <th>Monsters, Inc.</th>\n",
       "      <td> 2001</td>\n",
       "      <td>  90</td>\n",
       "      <td>  96</td>\n",
       "      <td> 81</td>\n",
       "      <td> 78</td>\n",
       "      <td> 62.58</td>\n",
       "      <td> 528.8</td>\n",
       "      <td> 255.9</td>\n",
       "      <td> 366.12</td>\n",
       "      <td> 272.9</td>\n",
       "      <td> 48.39</td>\n",
       "      <td> 51.61</td>\n",
       "      <td> 115</td>\n",
       "      <td> 3</td>\n",
       "      <td> 1</td>\n",
       "    </tr>\n",
       "    <tr>\n",
       "      <th>Finding Nemo</th>\n",
       "      <td> 2003</td>\n",
       "      <td> 104</td>\n",
       "      <td>  99</td>\n",
       "      <td> 82</td>\n",
       "      <td> 90</td>\n",
       "      <td> 70.25</td>\n",
       "      <td> 895.6</td>\n",
       "      <td> 339.7</td>\n",
       "      <td> 457.46</td>\n",
       "      <td> 555.9</td>\n",
       "      <td> 37.93</td>\n",
       "      <td> 62.07</td>\n",
       "      <td>  94</td>\n",
       "      <td> 4</td>\n",
       "      <td> 1</td>\n",
       "    </tr>\n",
       "  </tbody>\n",
       "</table>\n",
       "</div>"
      ],
      "text/plain": [
       "                Year Released  Length  RT Score  IMDB Score  Metacritic Score  \\\n",
       "Movie                                                                           \n",
       "Toy Story                1995      81       100          83                92   \n",
       "A Bug's Life             1998      96        92          72                77   \n",
       "Toy Story 2              1999      92       100          79                88   \n",
       "Monsters, Inc.           2001      90        96          81                78   \n",
       "Finding Nemo             2003     104        99          82                90   \n",
       "\n",
       "                Opening Weekend  Worldwide Gross  Domestic Gross  \\\n",
       "Movie                                                              \n",
       "Toy Story                 29.14            362.0           191.8   \n",
       "A Bug's Life              33.26            363.4           162.8   \n",
       "Toy Story 2               57.39            485.0           245.9   \n",
       "Monsters, Inc.            62.58            528.8           255.9   \n",
       "Finding Nemo              70.25            895.6           339.7   \n",
       "\n",
       "                Adjusted Domestic Gross  International Gross  Domestic %  \\\n",
       "Movie                                                                      \n",
       "Toy Story                        356.21                170.2       52.98   \n",
       "A Bug's Life                     277.18                200.6       44.80   \n",
       "Toy Story 2                      388.43                239.2       50.70   \n",
       "Monsters, Inc.                   366.12                272.9       48.39   \n",
       "Finding Nemo                     457.46                555.9       37.93   \n",
       "\n",
       "                International %  Production Budget  Oscars Nominated  \\\n",
       "Movie                                                                  \n",
       "Toy Story                 47.02                 30                 3   \n",
       "A Bug's Life              55.20                 45                 1   \n",
       "Toy Story 2               49.32                 90                 1   \n",
       "Monsters, Inc.            51.61                115                 3   \n",
       "Finding Nemo              62.07                 94                 4   \n",
       "\n",
       "                Oscars Won  \n",
       "Movie                       \n",
       "Toy Story                0  \n",
       "A Bug's Life             0  \n",
       "Toy Story 2              0  \n",
       "Monsters, Inc.           1  \n",
       "Finding Nemo             1  "
      ]
     },
     "execution_count": 9,
     "metadata": {},
     "output_type": "execute_result"
    }
   ],
   "source": [
    "filtered_pixar.set_index('Movie', inplace=True)\n",
    "filtered_pixar.head()"
   ]
  },
  {
   "cell_type": "markdown",
   "metadata": {},
   "source": [
    "##Data Visualization - Line Plots\n",
    "\n",
    "Now that the average reviews for each movie from the 3 major review sites are all on a 100 point scale, we can ask the question:\n",
    "\n",
    "####\"How do the Pixar films fare across each of the major review sites?\"\n",
    "\n",
    "I'll generate the following 3 line plots:\n",
    "\n",
    "- Rotten Tomatoes score on the y-axis, movie name on the x-axis.\n",
    "- IMDB score on the y-axis, movie name on the x-axis.\n",
    "- Metacritic score on the y-axis, movie name on the x-axis.\n",
    "\n",
    "I'll plot these line plots on the same plotting area so we can easily compare how each movie fared across the review sites."
   ]
  },
  {
   "cell_type": "code",
   "execution_count": 10,
   "metadata": {
    "collapsed": false
   },
   "outputs": [
    {
     "data": {
      "text/html": [
       "<div style=\"max-height:1000px;max-width:1500px;overflow:auto;\">\n",
       "<table border=\"1\" class=\"dataframe\">\n",
       "  <thead>\n",
       "    <tr style=\"text-align: right;\">\n",
       "      <th></th>\n",
       "      <th>RT Score</th>\n",
       "      <th>IMDB Score</th>\n",
       "      <th>Metacritic Score</th>\n",
       "    </tr>\n",
       "    <tr>\n",
       "      <th>Movie</th>\n",
       "      <th></th>\n",
       "      <th></th>\n",
       "      <th></th>\n",
       "    </tr>\n",
       "  </thead>\n",
       "  <tbody>\n",
       "    <tr>\n",
       "      <th>Toy Story</th>\n",
       "      <td> 100</td>\n",
       "      <td> 83</td>\n",
       "      <td> 92</td>\n",
       "    </tr>\n",
       "    <tr>\n",
       "      <th>A Bug's Life</th>\n",
       "      <td>  92</td>\n",
       "      <td> 72</td>\n",
       "      <td> 77</td>\n",
       "    </tr>\n",
       "    <tr>\n",
       "      <th>Toy Story 2</th>\n",
       "      <td> 100</td>\n",
       "      <td> 79</td>\n",
       "      <td> 88</td>\n",
       "    </tr>\n",
       "    <tr>\n",
       "      <th>Monsters, Inc.</th>\n",
       "      <td>  96</td>\n",
       "      <td> 81</td>\n",
       "      <td> 78</td>\n",
       "    </tr>\n",
       "    <tr>\n",
       "      <th>Finding Nemo</th>\n",
       "      <td>  99</td>\n",
       "      <td> 82</td>\n",
       "      <td> 90</td>\n",
       "    </tr>\n",
       "  </tbody>\n",
       "</table>\n",
       "</div>"
      ],
      "text/plain": [
       "                RT Score  IMDB Score  Metacritic Score\n",
       "Movie                                                 \n",
       "Toy Story            100          83                92\n",
       "A Bug's Life          92          72                77\n",
       "Toy Story 2          100          79                88\n",
       "Monsters, Inc.        96          81                78\n",
       "Finding Nemo          99          82                90"
      ]
     },
     "execution_count": 10,
     "metadata": {},
     "output_type": "execute_result"
    }
   ],
   "source": [
    "critics_reviews = pixar_movies[['RT Score', 'IMDB Score', 'Metacritic Score']]\n",
    "critics_reviews.head()"
   ]
  },
  {
   "cell_type": "code",
   "execution_count": 11,
   "metadata": {
    "collapsed": false
   },
   "outputs": [
    {
     "data": {
      "text/plain": [
       "<matplotlib.axes._subplots.AxesSubplot at 0x7f0f37ff9940>"
      ]
     },
     "execution_count": 11,
     "metadata": {},
     "output_type": "execute_result"
    },
    {
     "data": {
      "image/png": "[encoded data removed]",
      "text/plain": [
       "<matplotlib.figure.Figure at 0x7f0f37ff9b70>"
      ]
     },
     "metadata": {},
     "output_type": "display_data"
    }
   ],
   "source": [
    "critics_reviews.plot(figsize=(10,6))"
   ]
  },
  {
   "cell_type": "markdown",
   "metadata": {},
   "source": [
    "##Box Plots\n",
    "\n",
    "####How are the average ratings from each review site across all the movies distributed?"
   ]
  },
  {
   "cell_type": "code",
   "execution_count": 59,
   "metadata": {
    "collapsed": false
   },
   "outputs": [
    {
     "data": {
      "text/plain": [
       "<matplotlib.axes._subplots.AxesSubplot at 0x7fad6e72e748>"
      ]
     },
     "execution_count": 59,
     "metadata": {},
     "output_type": "execute_result"
    },
    {
     "data": {
      "image/png": "[encoded data removed]",
      "text/plain": [
       "<matplotlib.figure.Figure at 0x7fad6e734e80>"
      ]
     },
     "metadata": {},
     "output_type": "display_data"
    }
   ],
   "source": [
    "critics_reviews.plot(kind = 'box', figsize=(9,5))"
   ]
  },
  {
   "cell_type": "markdown",
   "metadata": {},
   "source": [
    "Rotten Tomatoes gave the Pixar movie consistently higher ratings. It also looks like Metacritic's ratings for the Pixar movies are more spread out, ranging from right under 60 to right under 100."
   ]
  },
  {
   "cell_type": "markdown",
   "metadata": {},
   "source": [
    "##Bar Plots\n",
    "\n",
    "####How has the ratio of where the revenue comes from changed since the first movie? Now that Pixar is more well known internationally, is more revenue being made internationally for newer movies?"
   ]
  },
  {
   "cell_type": "code",
   "execution_count": 60,
   "metadata": {
    "collapsed": false
   },
   "outputs": [
    {
     "data": {
      "text/html": [
       "<div style=\"max-height:1000px;max-width:1500px;overflow:auto;\">\n",
       "<table border=\"1\" class=\"dataframe\">\n",
       "  <thead>\n",
       "    <tr style=\"text-align: right;\">\n",
       "      <th></th>\n",
       "      <th>Domestic %</th>\n",
       "      <th>International %</th>\n",
       "    </tr>\n",
       "    <tr>\n",
       "      <th>Movie</th>\n",
       "      <th></th>\n",
       "      <th></th>\n",
       "    </tr>\n",
       "  </thead>\n",
       "  <tbody>\n",
       "    <tr>\n",
       "      <th>Toy Story</th>\n",
       "      <td> 52.98</td>\n",
       "      <td> 47.02</td>\n",
       "    </tr>\n",
       "    <tr>\n",
       "      <th>A Bug's Life</th>\n",
       "      <td> 44.80</td>\n",
       "      <td> 55.20</td>\n",
       "    </tr>\n",
       "    <tr>\n",
       "      <th>Toy Story 2</th>\n",
       "      <td> 50.70</td>\n",
       "      <td> 49.32</td>\n",
       "    </tr>\n",
       "    <tr>\n",
       "      <th>Monsters, Inc.</th>\n",
       "      <td> 48.39</td>\n",
       "      <td> 51.61</td>\n",
       "    </tr>\n",
       "    <tr>\n",
       "      <th>Finding Nemo</th>\n",
       "      <td> 37.93</td>\n",
       "      <td> 62.07</td>\n",
       "    </tr>\n",
       "  </tbody>\n",
       "</table>\n",
       "</div>"
      ],
      "text/plain": [
       "                Domestic %  International %\n",
       "Movie                                      \n",
       "Toy Story            52.98            47.02\n",
       "A Bug's Life         44.80            55.20\n",
       "Toy Story 2          50.70            49.32\n",
       "Monsters, Inc.       48.39            51.61\n",
       "Finding Nemo         37.93            62.07"
      ]
     },
     "execution_count": 60,
     "metadata": {},
     "output_type": "execute_result"
    }
   ],
   "source": [
    "revenue_proportions = filtered_pixar[['Domestic %', 'International %']]\n",
    "revenue_proportions.head()"
   ]
  },
  {
   "cell_type": "code",
   "execution_count": 61,
   "metadata": {
    "collapsed": false
   },
   "outputs": [
    {
     "data": {
      "text/plain": [
       "<matplotlib.axes._subplots.AxesSubplot at 0x7fad6e8470b8>"
      ]
     },
     "execution_count": 61,
     "metadata": {},
     "output_type": "execute_result"
    },
    {
     "data": {
      "image/png": "[encoded data removed]",
      "text/plain": [
       "<matplotlib.figure.Figure at 0x7fad6e7ccbe0>"
      ]
     },
     "metadata": {},
     "output_type": "display_data"
    }
   ],
   "source": [
    "revenue_proportions.plot(kind='bar', stacked=True)"
   ]
  },
  {
   "cell_type": "markdown",
   "metadata": {},
   "source": [
    "You'll notice that there's been a general decrease in the proportion of revenue that was made domestically."
   ]
  },
  {
   "cell_type": "markdown",
   "metadata": {},
   "source": [
    "####What is the correlation between the number of Oscars a movie was nominated for and the number it actually won."
   ]
  },
  {
   "cell_type": "code",
   "execution_count": 62,
   "metadata": {
    "collapsed": true
   },
   "outputs": [],
   "source": [
    "oscars = filtered_pixar[['Oscars Nominated', 'Oscars Won']]"
   ]
  },
  {
   "cell_type": "code",
   "execution_count": 64,
   "metadata": {
    "collapsed": false
   },
   "outputs": [
    {
     "data": {
      "text/plain": [
       "<matplotlib.axes._subplots.AxesSubplot at 0x7fad6e53d940>"
      ]
     },
     "execution_count": 64,
     "metadata": {},
     "output_type": "execute_result"
    },
    {
     "data": {
      "image/png": "[encoded data removed]",
      "text/plain": [
       "<matplotlib.figure.Figure at 0x7fad6e582b00>"
      ]
     },
     "metadata": {},
     "output_type": "display_data"
    }
   ],
   "source": [
    "oscars.plot(kind='bar')"
   ]
  },
  {
   "cell_type": "markdown",
   "metadata": {
    "collapsed": true
   },
   "source": [
    "####What plots can be generated to better understand which columns correlate with the Adjusted Domestic Gross revenue column?"
   ]
  },
  {
   "cell_type": "code",
   "execution_count": 12,
   "metadata": {
    "collapsed": false
   },
   "outputs": [
    {
     "data": {
      "text/html": [
       "<div style=\"max-height:1000px;max-width:1500px;overflow:auto;\">\n",
       "<table border=\"1\" class=\"dataframe\">\n",
       "  <thead>\n",
       "    <tr style=\"text-align: right;\">\n",
       "      <th></th>\n",
       "      <th>Year Released</th>\n",
       "      <th>Length</th>\n",
       "      <th>RT Score</th>\n",
       "      <th>IMDB Score</th>\n",
       "      <th>Metacritic Score</th>\n",
       "      <th>Opening Weekend</th>\n",
       "      <th>Worldwide Gross</th>\n",
       "      <th>Domestic Gross</th>\n",
       "      <th>Adjusted Domestic Gross</th>\n",
       "      <th>International Gross</th>\n",
       "      <th>Domestic %</th>\n",
       "      <th>International %</th>\n",
       "      <th>Production Budget</th>\n",
       "      <th>Oscars Nominated</th>\n",
       "      <th>Oscars Won</th>\n",
       "    </tr>\n",
       "    <tr>\n",
       "      <th>Movie</th>\n",
       "      <th></th>\n",
       "      <th></th>\n",
       "      <th></th>\n",
       "      <th></th>\n",
       "      <th></th>\n",
       "      <th></th>\n",
       "      <th></th>\n",
       "      <th></th>\n",
       "      <th></th>\n",
       "      <th></th>\n",
       "      <th></th>\n",
       "      <th></th>\n",
       "      <th></th>\n",
       "      <th></th>\n",
       "      <th></th>\n",
       "    </tr>\n",
       "  </thead>\n",
       "  <tbody>\n",
       "    <tr>\n",
       "      <th>Toy Story</th>\n",
       "      <td> 1995</td>\n",
       "      <td>  81</td>\n",
       "      <td> 100</td>\n",
       "      <td> 83</td>\n",
       "      <td> 92</td>\n",
       "      <td> 29.14</td>\n",
       "      <td> 362.0</td>\n",
       "      <td> 191.8</td>\n",
       "      <td> 356.21</td>\n",
       "      <td> 170.2</td>\n",
       "      <td> 52.98</td>\n",
       "      <td> 47.02</td>\n",
       "      <td>  30</td>\n",
       "      <td> 3</td>\n",
       "      <td> 0</td>\n",
       "    </tr>\n",
       "    <tr>\n",
       "      <th>A Bug's Life</th>\n",
       "      <td> 1998</td>\n",
       "      <td>  96</td>\n",
       "      <td>  92</td>\n",
       "      <td> 72</td>\n",
       "      <td> 77</td>\n",
       "      <td> 33.26</td>\n",
       "      <td> 363.4</td>\n",
       "      <td> 162.8</td>\n",
       "      <td> 277.18</td>\n",
       "      <td> 200.6</td>\n",
       "      <td> 44.80</td>\n",
       "      <td> 55.20</td>\n",
       "      <td>  45</td>\n",
       "      <td> 1</td>\n",
       "      <td> 0</td>\n",
       "    </tr>\n",
       "    <tr>\n",
       "      <th>Toy Story 2</th>\n",
       "      <td> 1999</td>\n",
       "      <td>  92</td>\n",
       "      <td> 100</td>\n",
       "      <td> 79</td>\n",
       "      <td> 88</td>\n",
       "      <td> 57.39</td>\n",
       "      <td> 485.0</td>\n",
       "      <td> 245.9</td>\n",
       "      <td> 388.43</td>\n",
       "      <td> 239.2</td>\n",
       "      <td> 50.70</td>\n",
       "      <td> 49.32</td>\n",
       "      <td>  90</td>\n",
       "      <td> 1</td>\n",
       "      <td> 0</td>\n",
       "    </tr>\n",
       "    <tr>\n",
       "      <th>Monsters, Inc.</th>\n",
       "      <td> 2001</td>\n",
       "      <td>  90</td>\n",
       "      <td>  96</td>\n",
       "      <td> 81</td>\n",
       "      <td> 78</td>\n",
       "      <td> 62.58</td>\n",
       "      <td> 528.8</td>\n",
       "      <td> 255.9</td>\n",
       "      <td> 366.12</td>\n",
       "      <td> 272.9</td>\n",
       "      <td> 48.39</td>\n",
       "      <td> 51.61</td>\n",
       "      <td> 115</td>\n",
       "      <td> 3</td>\n",
       "      <td> 1</td>\n",
       "    </tr>\n",
       "    <tr>\n",
       "      <th>Finding Nemo</th>\n",
       "      <td> 2003</td>\n",
       "      <td> 104</td>\n",
       "      <td>  99</td>\n",
       "      <td> 82</td>\n",
       "      <td> 90</td>\n",
       "      <td> 70.25</td>\n",
       "      <td> 895.6</td>\n",
       "      <td> 339.7</td>\n",
       "      <td> 457.46</td>\n",
       "      <td> 555.9</td>\n",
       "      <td> 37.93</td>\n",
       "      <td> 62.07</td>\n",
       "      <td>  94</td>\n",
       "      <td> 4</td>\n",
       "      <td> 1</td>\n",
       "    </tr>\n",
       "  </tbody>\n",
       "</table>\n",
       "</div>"
      ],
      "text/plain": [
       "                Year Released  Length  RT Score  IMDB Score  Metacritic Score  \\\n",
       "Movie                                                                           \n",
       "Toy Story                1995      81       100          83                92   \n",
       "A Bug's Life             1998      96        92          72                77   \n",
       "Toy Story 2              1999      92       100          79                88   \n",
       "Monsters, Inc.           2001      90        96          81                78   \n",
       "Finding Nemo             2003     104        99          82                90   \n",
       "\n",
       "                Opening Weekend  Worldwide Gross  Domestic Gross  \\\n",
       "Movie                                                              \n",
       "Toy Story                 29.14            362.0           191.8   \n",
       "A Bug's Life              33.26            363.4           162.8   \n",
       "Toy Story 2               57.39            485.0           245.9   \n",
       "Monsters, Inc.            62.58            528.8           255.9   \n",
       "Finding Nemo              70.25            895.6           339.7   \n",
       "\n",
       "                Adjusted Domestic Gross  International Gross  Domestic %  \\\n",
       "Movie                                                                      \n",
       "Toy Story                        356.21                170.2       52.98   \n",
       "A Bug's Life                     277.18                200.6       44.80   \n",
       "Toy Story 2                      388.43                239.2       50.70   \n",
       "Monsters, Inc.                   366.12                272.9       48.39   \n",
       "Finding Nemo                     457.46                555.9       37.93   \n",
       "\n",
       "                International %  Production Budget  Oscars Nominated  \\\n",
       "Movie                                                                  \n",
       "Toy Story                 47.02                 30                 3   \n",
       "A Bug's Life              55.20                 45                 1   \n",
       "Toy Story 2               49.32                 90                 1   \n",
       "Monsters, Inc.            51.61                115                 3   \n",
       "Finding Nemo              62.07                 94                 4   \n",
       "\n",
       "                Oscars Won  \n",
       "Movie                       \n",
       "Toy Story                0  \n",
       "A Bug's Life             0  \n",
       "Toy Story 2              0  \n",
       "Monsters, Inc.           1  \n",
       "Finding Nemo             1  "
      ]
     },
     "execution_count": 12,
     "metadata": {},
     "output_type": "execute_result"
    }
   ],
   "source": [
    "filtered_pixar.head()"
   ]
  },
  {
   "cell_type": "code",
   "execution_count": 14,
   "metadata": {
    "collapsed": false
   },
   "outputs": [
    {
     "data": {
      "text/plain": [
       "<matplotlib.collections.PathCollection at 0x7f0f37e44b00>"
      ]
     },
     "execution_count": 14,
     "metadata": {},
     "output_type": "execute_result"
    },
    {
     "data": {
      "image/png": "[encoded data removed]",
      "text/plain": [
       "<matplotlib.figure.Figure at 0x7f0f37f02a58>"
      ]
     },
     "metadata": {},
     "output_type": "display_data"
    }
   ],
   "source": [
    "plt.scatter(filtered_pixar['RT Score'], filtered_pixar['Adjusted Domestic Gross'])"
   ]
  },
  {
   "cell_type": "code",
   "execution_count": 15,
   "metadata": {
    "collapsed": false
   },
   "outputs": [
    {
     "data": {
      "text/plain": [
       "<matplotlib.collections.PathCollection at 0x7f0f37dbd6d8>"
      ]
     },
     "execution_count": 15,
     "metadata": {},
     "output_type": "execute_result"
    },
    {
     "data": {
      "image/png": "[encoded data removed]",
      "text/plain": [
       "<matplotlib.figure.Figure at 0x7f0f37e5c7f0>"
      ]
     },
     "metadata": {},
     "output_type": "display_data"
    }
   ],
   "source": [
    "plt.scatter(filtered_pixar['IMDB Score'], filtered_pixar['Adjusted Domestic Gross'])"
   ]
  },
  {
   "cell_type": "code",
   "execution_count": 16,
   "metadata": {
    "collapsed": false
   },
   "outputs": [
    {
     "data": {
      "text/plain": [
       "<matplotlib.collections.PathCollection at 0x7f0f37da3f28>"
      ]
     },
     "execution_count": 16,
     "metadata": {},
     "output_type": "execute_result"
    },
    {
     "data": {
      "image/png": "[encoded data removed]",
      "text/plain": [
       "<matplotlib.figure.Figure at 0x7f0f37e142b0>"
      ]
     },
     "metadata": {},
     "output_type": "display_data"
    }
   ],
   "source": [
    "plt.scatter(filtered_pixar['Metacritic Score'], filtered_pixar['Adjusted Domestic Gross'])"
   ]
  },
  {
   "cell_type": "code",
   "execution_count": 17,
   "metadata": {
    "collapsed": false
   },
   "outputs": [
    {
     "data": {
      "text/plain": [
       "<matplotlib.collections.PathCollection at 0x7f0f37d143c8>"
      ]
     },
     "execution_count": 17,
     "metadata": {},
     "output_type": "execute_result"
    },
    {
     "data": {
      "image/png": "[encoded data removed]",
      "text/plain": [
       "<matplotlib.figure.Figure at 0x7f0f37d4a8d0>"
      ]
     },
     "metadata": {},
     "output_type": "display_data"
    }
   ],
   "source": [
    "plt.scatter(filtered_pixar['Opening Weekend'], filtered_pixar['Adjusted Domestic Gross'])"
   ]
  },
  {
   "cell_type": "code",
   "execution_count": 18,
   "metadata": {
    "collapsed": false
   },
   "outputs": [
    {
     "data": {
      "text/plain": [
       "<matplotlib.collections.PathCollection at 0x7f0f37c7b128>"
      ]
     },
     "execution_count": 18,
     "metadata": {},
     "output_type": "execute_result"
    },
    {
     "data": {
      "image/png": "[encoded data removed]",
      "text/plain": [
       "<matplotlib.figure.Figure at 0x7f0f37cae668>"
      ]
     },
     "metadata": {},
     "output_type": "display_data"
    }
   ],
   "source": [
    "plt.scatter(filtered_pixar['Worldwide Gross'], filtered_pixar['Adjusted Domestic Gross'])"
   ]
  },
  {
   "cell_type": "code",
   "execution_count": 19,
   "metadata": {
    "collapsed": false
   },
   "outputs": [
    {
     "data": {
      "text/plain": [
       "<matplotlib.collections.PathCollection at 0x7f0f37c61b70>"
      ]
     },
     "execution_count": 19,
     "metadata": {},
     "output_type": "execute_result"
    },
    {
     "data": {
      "image/png": "[encoded data removed]",
      "text/plain": [
       "<matplotlib.figure.Figure at 0x7f0f37c9b198>"
      ]
     },
     "metadata": {},
     "output_type": "display_data"
    }
   ],
   "source": [
    "plt.scatter(filtered_pixar['Production Budget'], filtered_pixar['Adjusted Domestic Gross'])"
   ]
  },
  {
   "cell_type": "code",
   "execution_count": 20,
   "metadata": {
    "collapsed": false
   },
   "outputs": [
    {
     "data": {
      "text/plain": [
       "<matplotlib.collections.PathCollection at 0x7f0f37bc78d0>"
      ]
     },
     "execution_count": 20,
     "metadata": {},
     "output_type": "execute_result"
    },
    {
     "data": {
      "image/png": "[encoded data removed]",
      "text/plain": [
       "<matplotlib.figure.Figure at 0x7f0f37c3b978>"
      ]
     },
     "metadata": {},
     "output_type": "display_data"
    }
   ],
   "source": [
    "plt.scatter(filtered_pixar['Oscars Nominated'], filtered_pixar['Adjusted Domestic Gross'])"
   ]
  },
  {
   "cell_type": "markdown",
   "metadata": {},
   "source": [
    "Adjusted Domestic Gross has best correlation with IMDB score"
   ]
  },
  {
   "cell_type": "code",
   "execution_count": null,
   "metadata": {
    "collapsed": true
   },
   "outputs": [],
   "source": []
  }
 ],
 "metadata": {
  "kernelspec": {
   "display_name": "Python 3",
   "language": "python",
   "name": "python3"
  },
  "language_info": {
   "codemirror_mode": {
    "name": "ipython",
    "version": 3
   },
   "file_extension": ".py",
   "mimetype": "text/x-python",
   "name": "python",
   "nbconvert_exporter": "python",
   "pygments_lexer": "ipython3",
   "version": "3.4.3"
  }
 },
 "nbformat": 4,
 "nbformat_minor": 0
}
